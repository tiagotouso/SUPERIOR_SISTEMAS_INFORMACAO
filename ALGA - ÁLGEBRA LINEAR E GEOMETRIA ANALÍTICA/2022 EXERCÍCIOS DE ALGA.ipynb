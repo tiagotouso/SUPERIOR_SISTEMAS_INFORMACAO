{
 "cells": [
  {
   "cell_type": "markdown",
   "id": "c2a21700",
   "metadata": {},
   "source": [
    "# EXERCÍCIOS DE ALGA"
   ]
  },
  {
   "cell_type": "code",
   "execution_count": 38,
   "id": "e3cffc8a",
   "metadata": {},
   "outputs": [],
   "source": [
    "import sympy as sp\n",
    "from sympy.solvers.solveset import linsolve\n",
    "from sympy.matrices import Matrix, eye, zeros, ones, diag, GramSchmidt\n",
    "\n",
    "from sympy.interactive.printing import init_printing\n",
    "\n",
    "from sympy import Eq, solve_linear_system, Matrix\n",
    "from numpy import linalg\n",
    "\n",
    "import numpy as np"
   ]
  },
  {
   "cell_type": "code",
   "execution_count": null,
   "id": "7eae00d1",
   "metadata": {},
   "outputs": [],
   "source": []
  },
  {
   "cell_type": "code",
   "execution_count": null,
   "id": "3d7978af",
   "metadata": {},
   "outputs": [],
   "source": []
  },
  {
   "cell_type": "code",
   "execution_count": null,
   "id": "319096ba",
   "metadata": {},
   "outputs": [],
   "source": []
  },
  {
   "cell_type": "code",
   "execution_count": 2,
   "id": "1445b57d",
   "metadata": {},
   "outputs": [
    {
     "data": {
      "text/latex": [
       "$\\displaystyle \\left\\{\\left( 3, \\  -1\\right)\\right\\}$"
      ],
      "text/plain": [
       "{(3, -1)}"
      ]
     },
     "execution_count": 2,
     "metadata": {},
     "output_type": "execute_result"
    }
   ],
   "source": [
    "x, y = sp.symbols('x y')\n",
    "\n",
    "system = [\n",
    "    2*x + y - 5,\n",
    "    x - 3*y -6 ]\n",
    "\n",
    "result = linsolve(system, (x, y))\n",
    "result"
   ]
  },
  {
   "cell_type": "code",
   "execution_count": null,
   "id": "00f4c50c",
   "metadata": {},
   "outputs": [],
   "source": []
  },
  {
   "cell_type": "code",
   "execution_count": 39,
   "id": "d02eba9c",
   "metadata": {},
   "outputs": [
    {
     "name": "stdout",
     "output_type": "stream",
     "text": [
      "Resolver o sistema de equações\n"
     ]
    },
    {
     "data": {
      "text/latex": [
       "$\\displaystyle 2 x - y = -4$"
      ],
      "text/plain": [
       "Eq(2*x - y, -4)"
      ]
     },
     "metadata": {},
     "output_type": "display_data"
    },
    {
     "data": {
      "text/latex": [
       "$\\displaystyle 3 x - y = -2$"
      ],
      "text/plain": [
       "Eq(3*x - y, -2)"
      ]
     },
     "metadata": {},
     "output_type": "display_data"
    },
    {
     "name": "stdout",
     "output_type": "stream",
     "text": [
      "Que em forma matricial (sympy)\n"
     ]
    },
    {
     "data": {
      "text/latex": [
       "$\\displaystyle \\left[\\begin{matrix}2 & -1 & -4\\\\3 & -1 & -2\\end{matrix}\\right]$"
      ],
      "text/plain": [
       "Matrix([\n",
       "[2, -1, -4],\n",
       "[3, -1, -2]])"
      ]
     },
     "metadata": {},
     "output_type": "display_data"
    },
    {
     "name": "stdout",
     "output_type": "stream",
     "text": [
      "Tem a solução\n"
     ]
    },
    {
     "data": {
      "text/plain": [
       "{x: 2, y: 8}"
      ]
     },
     "metadata": {},
     "output_type": "display_data"
    }
   ],
   "source": [
    "eq1 = sp.Function('eq1')\n",
    "eq2 = sp.Function('eq2')\n",
    "x,y = sp.symbols('x y')\n",
    "eq1 = Eq(2*x-y,-4)\n",
    "eq2 = Eq(3*x-y,-2)\n",
    "print(\"Resolver o sistema de equações\")\n",
    "display(eq1)\n",
    "display(eq2)\n",
    "\n",
    "row1 = [2,-1,-4]\n",
    "row2 = [3,-1,-2]\n",
    "\n",
    "system =Matrix((row1,row2))\n",
    "print(\"Que em forma matricial (sympy)\")\n",
    "display(system)\n",
    "print(\"Tem a solução\")\n",
    "display(solve_linear_system(system,x,y))"
   ]
  },
  {
   "cell_type": "code",
   "execution_count": null,
   "id": "f989356b",
   "metadata": {},
   "outputs": [],
   "source": []
  },
  {
   "cell_type": "code",
   "execution_count": null,
   "id": "884cae12",
   "metadata": {},
   "outputs": [],
   "source": []
  },
  {
   "cell_type": "code",
   "execution_count": null,
   "id": "2f9259bd",
   "metadata": {},
   "outputs": [],
   "source": []
  },
  {
   "cell_type": "markdown",
   "id": "ee13d809",
   "metadata": {},
   "source": [
    "# AVALIAÇÃO 20 PONTOS - 25/09"
   ]
  },
  {
   "cell_type": "markdown",
   "id": "e7436f0a",
   "metadata": {},
   "source": [
    "Uma conceituada empresa do ramo de montagens, instalada na região do Triângulo Mineiro, apresenta uma capacidade de produção mensal de peças em uma matriz diagonal. O auxiliar de produção detectou que em uma hora de execução, uma das máquinas começou a produzir peças defeituosas, que estão indicadas na matriz por x (peças sem nenhuma reutilização), y (peças com possível aproveitamento em outra função) e z (peças reutilizadas, porém sem certificado de qualidade)."
   ]
  },
  {
   "cell_type": "markdown",
   "id": "d83f8f7b",
   "metadata": {},
   "source": [
    "$$ \\begin{bmatrix} \n",
    "\tx & 0 & 0 \\\\\n",
    "\tz - 1 & y & x^2 - 6x + 9\\\\\n",
    "\t0 & y - 3 & z\\\\\n",
    "\t\\end{bmatrix} $$"
   ]
  },
  {
   "cell_type": "markdown",
   "id": "afe94cae",
   "metadata": {},
   "source": [
    "a) Nesse sentido, desenvolva os cálculos e determine as quantidades de peças defeituosas x, y e z dessa máquina em uma hora.\n",
    "\n",
    "b) Qual a característica de matriz diagonal? Exemplifique."
   ]
  },
  {
   "cell_type": "code",
   "execution_count": 46,
   "id": "d3a95ae1",
   "metadata": {},
   "outputs": [
    {
     "data": {
      "text/latex": [
       "$\\displaystyle \\left[\\begin{matrix}x & 0 & 0\\\\z - 1 & y & x^{2} - 6 x + 9\\\\0 & y - 3 & z\\end{matrix}\\right]$"
      ],
      "text/plain": [
       "Matrix([\n",
       "[    x,     0,              0],\n",
       "[z - 1,     y, x**2 - 6*x + 9],\n",
       "[    0, y - 3,              z]])"
      ]
     },
     "execution_count": 46,
     "metadata": {},
     "output_type": "execute_result"
    }
   ],
   "source": [
    "x, y, z = sp.symbols('x y z')\n",
    "a = Matrix(3, 3, [x, 0, 0, z-1, y, x**2-6*x+9, 0, y-3, z])\n",
    "a"
   ]
  },
  {
   "cell_type": "code",
   "execution_count": 47,
   "id": "a164b878",
   "metadata": {},
   "outputs": [
    {
     "data": {
      "text/latex": [
       "$\\displaystyle - x^{3} y + 3 x^{3} + 6 x^{2} y - 18 x^{2} + x y z - 9 x y + 27 x$"
      ],
      "text/plain": [
       "-x**3*y + 3*x**3 + 6*x**2*y - 18*x**2 + x*y*z - 9*x*y + 27*x"
      ]
     },
     "execution_count": 47,
     "metadata": {},
     "output_type": "execute_result"
    }
   ],
   "source": [
    "eq = a.det()\n",
    "eq"
   ]
  },
  {
   "cell_type": "code",
   "execution_count": 49,
   "id": "7ea3bd24",
   "metadata": {},
   "outputs": [
    {
     "data": {
      "text/plain": [
       "[(0, y, z), (x, 3*(x**2 - 6*x + 9)/(x**2 - 6*x - z + 9), z)]"
      ]
     },
     "execution_count": 49,
     "metadata": {},
     "output_type": "execute_result"
    }
   ],
   "source": [
    "sp.solve(eq, (x, y, z))"
   ]
  },
  {
   "cell_type": "code",
   "execution_count": null,
   "id": "f68a5e04",
   "metadata": {},
   "outputs": [],
   "source": []
  },
  {
   "cell_type": "code",
   "execution_count": null,
   "id": "5e8562a5",
   "metadata": {},
   "outputs": [],
   "source": []
  },
  {
   "cell_type": "code",
   "execution_count": null,
   "id": "3f139a1c",
   "metadata": {},
   "outputs": [],
   "source": []
  },
  {
   "cell_type": "code",
   "execution_count": 26,
   "id": "3a346159",
   "metadata": {},
   "outputs": [
    {
     "data": {
      "text/latex": [
       "$\\displaystyle \\left[\\begin{matrix}1 & 0 & 0\\\\2 & 3 & 4\\\\0 & 5 & 6\\end{matrix}\\right]$"
      ],
      "text/plain": [
       "Matrix([\n",
       "[1, 0, 0],\n",
       "[2, 3, 4],\n",
       "[0, 5, 6]])"
      ]
     },
     "execution_count": 26,
     "metadata": {},
     "output_type": "execute_result"
    }
   ],
   "source": [
    "a = Matrix(3, 3, [1, 0, 0, 2, 3, 4, 0, 5, 6])\n",
    "a"
   ]
  },
  {
   "cell_type": "code",
   "execution_count": 27,
   "id": "4c9aafd1",
   "metadata": {},
   "outputs": [
    {
     "data": {
      "text/latex": [
       "$\\displaystyle -2$"
      ],
      "text/plain": [
       "-2"
      ]
     },
     "execution_count": 27,
     "metadata": {},
     "output_type": "execute_result"
    }
   ],
   "source": [
    "a.det()"
   ]
  },
  {
   "cell_type": "code",
   "execution_count": 33,
   "id": "2e9ef0d8",
   "metadata": {},
   "outputs": [
    {
     "data": {
      "text/latex": [
       "$\\displaystyle \\left[\\begin{matrix}1 & 2 & 0\\\\0 & 3 & 4\\\\0 & 5 & 6\\end{matrix}\\right]$"
      ],
      "text/plain": [
       "Matrix([\n",
       "[1, 2, 0],\n",
       "[0, 3, 4],\n",
       "[0, 5, 6]])"
      ]
     },
     "execution_count": 33,
     "metadata": {},
     "output_type": "execute_result"
    }
   ],
   "source": [
    "a = Matrix(3, 3, [1, 2, 0, 0, 3, 4, 0, 5, 6])\n",
    "a"
   ]
  },
  {
   "cell_type": "code",
   "execution_count": 34,
   "id": "4bfd09ea",
   "metadata": {},
   "outputs": [
    {
     "data": {
      "text/latex": [
       "$\\displaystyle -2$"
      ],
      "text/plain": [
       "-2"
      ]
     },
     "execution_count": 34,
     "metadata": {},
     "output_type": "execute_result"
    }
   ],
   "source": [
    "a.det()"
   ]
  },
  {
   "cell_type": "markdown",
   "id": "f5a6c720",
   "metadata": {},
   "source": [
    "# SEMANA 8"
   ]
  },
  {
   "cell_type": "markdown",
   "id": "0371d422",
   "metadata": {},
   "source": []
  },
  {
   "cell_type": "code",
   "execution_count": null,
   "id": "1664bc4c",
   "metadata": {},
   "outputs": [],
   "source": []
  },
  {
   "cell_type": "markdown",
   "id": "5b612e5f",
   "metadata": {},
   "source": [
    "# SEMANA 7"
   ]
  },
  {
   "cell_type": "markdown",
   "id": "a6e5fbb7",
   "metadata": {},
   "source": []
  },
  {
   "cell_type": "code",
   "execution_count": null,
   "id": "f7c8ac93",
   "metadata": {},
   "outputs": [],
   "source": []
  },
  {
   "cell_type": "markdown",
   "id": "f71b9998",
   "metadata": {},
   "source": [
    "# SEMANA 6"
   ]
  },
  {
   "cell_type": "markdown",
   "id": "36f71273",
   "metadata": {},
   "source": []
  },
  {
   "cell_type": "code",
   "execution_count": null,
   "id": "c1f5a0bb",
   "metadata": {},
   "outputs": [],
   "source": []
  },
  {
   "cell_type": "markdown",
   "id": "2581dd75",
   "metadata": {},
   "source": [
    "# SEMANA 5"
   ]
  },
  {
   "cell_type": "markdown",
   "id": "ff639480",
   "metadata": {},
   "source": []
  },
  {
   "cell_type": "code",
   "execution_count": null,
   "id": "09e0a1fc",
   "metadata": {},
   "outputs": [],
   "source": []
  },
  {
   "cell_type": "markdown",
   "id": "30529c1b",
   "metadata": {},
   "source": [
    "# SEMANA 4"
   ]
  },
  {
   "cell_type": "markdown",
   "id": "34073e10",
   "metadata": {},
   "source": []
  },
  {
   "cell_type": "code",
   "execution_count": null,
   "id": "597cb67d",
   "metadata": {},
   "outputs": [],
   "source": []
  },
  {
   "cell_type": "markdown",
   "id": "d730649d",
   "metadata": {},
   "source": [
    "# SEMANA 3"
   ]
  },
  {
   "cell_type": "markdown",
   "id": "64030ce3",
   "metadata": {},
   "source": []
  },
  {
   "cell_type": "code",
   "execution_count": null,
   "id": "58703862",
   "metadata": {},
   "outputs": [],
   "source": []
  },
  {
   "cell_type": "markdown",
   "id": "a2ce9349",
   "metadata": {},
   "source": [
    "# SEMANA 2"
   ]
  },
  {
   "cell_type": "markdown",
   "id": "6a03256e",
   "metadata": {},
   "source": [
    "### EXERCÍCIO 2"
   ]
  },
  {
   "cell_type": "markdown",
   "id": "2a82cf52",
   "metadata": {},
   "source": [
    "Utilize o Teorema de Laplace e assinale a alternativa que contém o valor do determinante da matriz quadrada de ordem 4 a seguir:"
   ]
  },
  {
   "cell_type": "markdown",
   "id": "a3e54bfd",
   "metadata": {},
   "source": [
    "$$A =  \\begin{bmatrix} \n",
    "-1 & 2 & 3 & -4 \\\\\n",
    "4 & 2 & 0 & 0 \\\\\n",
    "-1 & 2 & -3 & 0 \\\\\n",
    "2 & 5 & 3 & 1 \\\\\n",
    "\t\\end{bmatrix} $$"
   ]
  },
  {
   "cell_type": "code",
   "execution_count": 10,
   "id": "ca96d64e",
   "metadata": {},
   "outputs": [
    {
     "data": {
      "text/latex": [
       "$\\displaystyle \\left[\\begin{matrix}-1 & 2 & 3 & -4\\\\4 & 2 & 0 & 0\\\\-1 & 2 & -3 & 0\\\\2 & 5 & 3 & 1\\end{matrix}\\right]$"
      ],
      "text/plain": [
       "Matrix([\n",
       "[-1, 2,  3, -4],\n",
       "[ 4, 2,  0,  0],\n",
       "[-1, 2, -3,  0],\n",
       "[ 2, 5,  3,  1]])"
      ]
     },
     "execution_count": 10,
     "metadata": {},
     "output_type": "execute_result"
    }
   ],
   "source": [
    "a = Matrix(4, 4, [-1, 2, 3, -4, 4, 2, 0, 0, -1, 2, -3, 0, 2, 5, 3, 1])\n",
    "a"
   ]
  },
  {
   "cell_type": "code",
   "execution_count": 11,
   "id": "19ad2747",
   "metadata": {},
   "outputs": [
    {
     "data": {
      "text/latex": [
       "$\\displaystyle 372$"
      ],
      "text/plain": [
       "372"
      ]
     },
     "execution_count": 11,
     "metadata": {},
     "output_type": "execute_result"
    }
   ],
   "source": [
    "a.det()"
   ]
  },
  {
   "cell_type": "markdown",
   "id": "ecd5a2bb",
   "metadata": {},
   "source": [
    "### EXERCÍCIO 1"
   ]
  },
  {
   "cell_type": "markdown",
   "id": "b80b2bed",
   "metadata": {},
   "source": [
    "Sendo as matrizes A = (a ij) e B = (b ij), quadradas de ordem 2 com A ij = i^2 - j^2 e A ij = -i^2 + j^2, o valor do determina de (A - B) é:"
   ]
  },
  {
   "cell_type": "code",
   "execution_count": 12,
   "id": "6c115999",
   "metadata": {},
   "outputs": [
    {
     "data": {
      "text/latex": [
       "$\\displaystyle \\left[\\begin{matrix}0 & -1\\\\1 & 0\\end{matrix}\\right]$"
      ],
      "text/plain": [
       "Matrix([\n",
       "[0, -1],\n",
       "[1,  0]])"
      ]
     },
     "execution_count": 12,
     "metadata": {},
     "output_type": "execute_result"
    }
   ],
   "source": [
    "a = Matrix(2, 2, lambda i, j: i**2 - j**2)\n",
    "a"
   ]
  },
  {
   "cell_type": "code",
   "execution_count": 13,
   "id": "a84694a6",
   "metadata": {},
   "outputs": [
    {
     "data": {
      "text/latex": [
       "$\\displaystyle \\left[\\begin{matrix}0 & 1\\\\-1 & 0\\end{matrix}\\right]$"
      ],
      "text/plain": [
       "Matrix([\n",
       "[ 0, 1],\n",
       "[-1, 0]])"
      ]
     },
     "execution_count": 13,
     "metadata": {},
     "output_type": "execute_result"
    }
   ],
   "source": [
    "b = Matrix(2, 2, lambda i, j: -i**2 + j**2)\n",
    "b"
   ]
  },
  {
   "cell_type": "code",
   "execution_count": 14,
   "id": "830228d7",
   "metadata": {},
   "outputs": [
    {
     "data": {
      "text/latex": [
       "$\\displaystyle \\left[\\begin{matrix}0 & -2\\\\2 & 0\\end{matrix}\\right]$"
      ],
      "text/plain": [
       "Matrix([\n",
       "[0, -2],\n",
       "[2,  0]])"
      ]
     },
     "execution_count": 14,
     "metadata": {},
     "output_type": "execute_result"
    }
   ],
   "source": [
    "c = a - b\n",
    "c"
   ]
  },
  {
   "cell_type": "code",
   "execution_count": 15,
   "id": "514ba7b7",
   "metadata": {},
   "outputs": [
    {
     "data": {
      "text/latex": [
       "$\\displaystyle 4$"
      ],
      "text/plain": [
       "4"
      ]
     },
     "execution_count": 15,
     "metadata": {},
     "output_type": "execute_result"
    }
   ],
   "source": [
    "c.det()"
   ]
  },
  {
   "cell_type": "code",
   "execution_count": 16,
   "id": "de2ba4b0",
   "metadata": {},
   "outputs": [
    {
     "data": {
      "text/latex": [
       "$\\displaystyle \\left[\\begin{matrix}0 & 2\\\\-2 & 0\\end{matrix}\\right]$"
      ],
      "text/plain": [
       "Matrix([\n",
       "[ 0, 2],\n",
       "[-2, 0]])"
      ]
     },
     "execution_count": 16,
     "metadata": {},
     "output_type": "execute_result"
    }
   ],
   "source": [
    "c = b - a\n",
    "c"
   ]
  },
  {
   "cell_type": "code",
   "execution_count": 17,
   "id": "9fe07575",
   "metadata": {},
   "outputs": [
    {
     "data": {
      "text/latex": [
       "$\\displaystyle 4$"
      ],
      "text/plain": [
       "4"
      ]
     },
     "execution_count": 17,
     "metadata": {},
     "output_type": "execute_result"
    }
   ],
   "source": [
    "c.det()"
   ]
  },
  {
   "cell_type": "markdown",
   "id": "21e11d13",
   "metadata": {},
   "source": [
    "# SEMANA 1"
   ]
  },
  {
   "cell_type": "markdown",
   "id": "49725f21",
   "metadata": {},
   "source": [
    "### EXERCÍCIO 2"
   ]
  },
  {
   "cell_type": "markdown",
   "id": "4cda167f",
   "metadata": {},
   "source": [
    "O crescente uso dos computadores tem feito com que a teoria das matrizes seja cada vez mais aplicada em áreas como Economia, Engenharia, Matemática, Física, dentre outras.\n",
    "\n",
    "Algumas matrizes merecem uma atenção especial, portanto analise as afirmativas a seguir:\n",
    "\n",
    " \n",
    "\n",
    "I. Uma matriz é quadrada quando o número de linhas é igual ao número de colunas. Nas matrizes quadradas, temos dois elementos muito importantes, as diagonais: principal e secundaria. A diagonal principal é formada por elementos que possuem índices iguais, ou seja, é todo elemento ai j com i = j. A diagonal secundária é formada por elementos ai j  com i + j = n +1, em que n é ordem da matriz.\n",
    "\n",
    " \n",
    "\n",
    "II. A matriz identidade é uma matriz quadrada que possui todos os elementos da diagonal principal iguais a 0 e os demais elementos iguais a 1, denotamos essa matriz por I.\n",
    "\n",
    " \n",
    "\n",
    "III. Considere duas matrizes de ordens iguais: A = [ai j ] m x n e B = [bi j] m x n. Essas matrizes serão chamadas de opostas se, e somente se, ai j = - bi j. Desse modo, os elementos correspondentes devem ser números opostos."
   ]
  },
  {
   "cell_type": "markdown",
   "id": "ca7e3d72",
   "metadata": {},
   "source": [
    "Resposta: I e III são verdadeiras"
   ]
  },
  {
   "cell_type": "markdown",
   "id": "f621b8db",
   "metadata": {},
   "source": [
    "### I"
   ]
  },
  {
   "cell_type": "code",
   "execution_count": 18,
   "id": "9022a8b1",
   "metadata": {},
   "outputs": [
    {
     "data": {
      "text/latex": [
       "$\\displaystyle \\left[\\begin{matrix}1 & 2\\\\3 & 4\\end{matrix}\\right]$"
      ],
      "text/plain": [
       "Matrix([\n",
       "[1, 2],\n",
       "[3, 4]])"
      ]
     },
     "execution_count": 18,
     "metadata": {},
     "output_type": "execute_result"
    }
   ],
   "source": [
    "a = Matrix(2, 2, [1, 2, 3, 4])\n",
    "a"
   ]
  },
  {
   "cell_type": "code",
   "execution_count": 19,
   "id": "66428538",
   "metadata": {},
   "outputs": [
    {
     "data": {
      "text/latex": [
       "$\\displaystyle \\left[\\begin{matrix}0 & 0\\\\0 & 0\\end{matrix}\\right]$"
      ],
      "text/plain": [
       "Matrix([\n",
       "[0, 0],\n",
       "[0, 0]])"
      ]
     },
     "execution_count": 19,
     "metadata": {},
     "output_type": "execute_result"
    }
   ],
   "source": [
    "a - a "
   ]
  },
  {
   "cell_type": "code",
   "execution_count": 20,
   "id": "bce6c9fc",
   "metadata": {},
   "outputs": [
    {
     "data": {
      "text/latex": [
       "$\\displaystyle \\left[\\begin{matrix}-1 & -2\\\\-3 & -4\\end{matrix}\\right]$"
      ],
      "text/plain": [
       "Matrix([\n",
       "[-1, -2],\n",
       "[-3, -4]])"
      ]
     },
     "execution_count": 20,
     "metadata": {},
     "output_type": "execute_result"
    }
   ],
   "source": [
    "-a"
   ]
  },
  {
   "cell_type": "markdown",
   "id": "edd9c74f",
   "metadata": {},
   "source": [
    "### II"
   ]
  },
  {
   "cell_type": "code",
   "execution_count": 21,
   "id": "1b9b3d17",
   "metadata": {},
   "outputs": [
    {
     "data": {
      "text/latex": [
       "$\\displaystyle \\left[\\begin{matrix}1 & 0 & 0\\\\0 & 1 & 0\\\\0 & 0 & 1\\end{matrix}\\right]$"
      ],
      "text/plain": [
       "Matrix([\n",
       "[1, 0, 0],\n",
       "[0, 1, 0],\n",
       "[0, 0, 1]])"
      ]
     },
     "execution_count": 21,
     "metadata": {},
     "output_type": "execute_result"
    }
   ],
   "source": [
    "eye(3,3)"
   ]
  },
  {
   "cell_type": "markdown",
   "id": "3e102124",
   "metadata": {},
   "source": [
    "### III"
   ]
  },
  {
   "cell_type": "markdown",
   "id": "8ee53af6",
   "metadata": {},
   "source": [
    "$$A =  \\begin{bmatrix} \n",
    "\ta(1,1) & a(1,2) & a(1,3) \\\\\n",
    "\ta(2,1) & a(2,2) & a(2,3)\\\\\n",
    "\ta(3,1) & a(3,2) & a(3,3) \\\\\n",
    "\t\\end{bmatrix} $$"
   ]
  },
  {
   "cell_type": "markdown",
   "id": "a21e9947",
   "metadata": {},
   "source": [
    "### EXERCÍCIO 1"
   ]
  },
  {
   "cell_type": "code",
   "execution_count": 22,
   "id": "db29cebf",
   "metadata": {},
   "outputs": [
    {
     "data": {
      "text/latex": [
       "$\\displaystyle \\left[\\begin{matrix}2 & 3\\\\-1 & 0\\end{matrix}\\right]$"
      ],
      "text/plain": [
       "Matrix([\n",
       "[ 2, 3],\n",
       "[-1, 0]])"
      ]
     },
     "execution_count": 22,
     "metadata": {},
     "output_type": "execute_result"
    }
   ],
   "source": [
    "m = Matrix(2, 2, [2, 3, -1, 0])\n",
    "m"
   ]
  },
  {
   "cell_type": "code",
   "execution_count": 23,
   "id": "e1ba7cf5",
   "metadata": {},
   "outputs": [
    {
     "data": {
      "text/latex": [
       "$\\displaystyle \\left[\\begin{matrix}4 & 0\\\\1 & 5\\end{matrix}\\right]$"
      ],
      "text/plain": [
       "Matrix([\n",
       "[4, 0],\n",
       "[1, 5]])"
      ]
     },
     "execution_count": 23,
     "metadata": {},
     "output_type": "execute_result"
    }
   ],
   "source": [
    "n = Matrix(2, 2, [4, 0, 1, 5])\n",
    "n"
   ]
  },
  {
   "cell_type": "code",
   "execution_count": 24,
   "id": "fb043cef",
   "metadata": {},
   "outputs": [
    {
     "data": {
      "text/latex": [
       "$\\displaystyle \\left[\\begin{matrix}19 & 27\\\\-7 & 3\\end{matrix}\\right]$"
      ],
      "text/plain": [
       "Matrix([\n",
       "[19, 27],\n",
       "[-7,  3]])"
      ]
     },
     "execution_count": 24,
     "metadata": {},
     "output_type": "execute_result"
    }
   ],
   "source": [
    "r = m * n + n * m\n",
    "r"
   ]
  },
  {
   "cell_type": "code",
   "execution_count": 25,
   "id": "cc6c9750",
   "metadata": {},
   "outputs": [
    {
     "data": {
      "text/latex": [
       "$\\displaystyle -7$"
      ],
      "text/plain": [
       "-7"
      ]
     },
     "execution_count": 25,
     "metadata": {},
     "output_type": "execute_result"
    }
   ],
   "source": [
    "min(r)"
   ]
  }
 ],
 "metadata": {
  "kernelspec": {
   "display_name": "Python 3 (ipykernel)",
   "language": "python",
   "name": "python3"
  },
  "language_info": {
   "codemirror_mode": {
    "name": "ipython",
    "version": 3
   },
   "file_extension": ".py",
   "mimetype": "text/x-python",
   "name": "python",
   "nbconvert_exporter": "python",
   "pygments_lexer": "ipython3",
   "version": "3.9.12"
  }
 },
 "nbformat": 4,
 "nbformat_minor": 5
}
