{
 "cells": [
  {
   "cell_type": "code",
   "execution_count": null,
   "id": "633411c3",
   "metadata": {},
   "outputs": [],
   "source": [
    "# SIS"
   ]
  },
  {
   "cell_type": "code",
   "execution_count": null,
   "id": "64f84bf6",
   "metadata": {},
   "outputs": [],
   "source": []
  },
  {
   "cell_type": "code",
   "execution_count": null,
   "id": "34450fe6",
   "metadata": {},
   "outputs": [],
   "source": [
    "EQUAÇÕES LINEARES\n",
    "SISTEMAS DE EQUAÇÕES LINEARES\n",
    "REGRA DE CRAMER\n",
    "SISTEMAS EQUIVALENTES\n",
    "OPERAÇÕES ELEMENTARES\n",
    "SISTEMAS ESCALONADOS\n",
    "APLICAÇÕES RELACIONADAS AOS SISTEMAS LINEARES\n",
    "SISTEMAS LINEARES HOMOGÊNEOS"
   ]
  },
  {
   "cell_type": "code",
   "execution_count": null,
   "id": "5a5bf726",
   "metadata": {},
   "outputs": [],
   "source": []
  },
  {
   "cell_type": "code",
   "execution_count": null,
   "id": "ec5d9b62",
   "metadata": {},
   "outputs": [],
   "source": []
  },
  {
   "cell_type": "code",
   "execution_count": null,
   "id": "46b0f126",
   "metadata": {},
   "outputs": [],
   "source": []
  },
  {
   "cell_type": "code",
   "execution_count": null,
   "id": "ff4fd089",
   "metadata": {},
   "outputs": [],
   "source": []
  },
  {
   "cell_type": "code",
   "execution_count": null,
   "id": "ce765961",
   "metadata": {},
   "outputs": [],
   "source": []
  },
  {
   "cell_type": "code",
   "execution_count": null,
   "id": "77b00277",
   "metadata": {},
   "outputs": [],
   "source": []
  }
 ],
 "metadata": {
  "kernelspec": {
   "display_name": "Python 3 (ipykernel)",
   "language": "python",
   "name": "python3"
  },
  "language_info": {
   "codemirror_mode": {
    "name": "ipython",
    "version": 3
   },
   "file_extension": ".py",
   "mimetype": "text/x-python",
   "name": "python",
   "nbconvert_exporter": "python",
   "pygments_lexer": "ipython3",
   "version": "3.9.7"
  }
 },
 "nbformat": 4,
 "nbformat_minor": 5
}
